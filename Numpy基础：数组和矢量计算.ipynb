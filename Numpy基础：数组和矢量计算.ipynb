{
 "cells": [
  {
   "cell_type": "markdown",
   "metadata": {},
   "source": [
    "**Numpy 是Python数值计算重要的基础包，大多数提供科学计算的包都是用Numpy的数组作为构建基础**\n",
    "### Numpy的部分功能如下\n",
    "* ndarray 一个具有矢量算术运算和复杂广播的快速且节省空间的多维数组\n",
    "* 用于对整组数据进行快速运算的标准数学函数 (无需编写循环)\n",
    "* 用于读写磁盘数据的工具以及用于操作内存映射文件的工具\n",
    "* 线性代数、随机数生成、傅里叶变换功能\n",
    "* 用于集成由C、C++、Fortran等语言编写的代码的AC API\n",
    "### Numpy可以高效处理大数组数据的原因:\n",
    "* Numpy是在一个连续的内存块中存储数据，独立于其他Python内置对象\n",
    "* Numpy的C语言编写的算法库可以操作内存，而不必进行类型检查或其他前期工作，比起python内置序列，Numpy数组使用的内存更少\n",
    "* Numpy可以在整个数组上执行复杂的计算，而不需要python的for循环"
   ]
  },
  {
   "cell_type": "markdown",
   "metadata": {},
   "source": [
    "# Numpy的ndarray：一种多维数组对象"
   ]
  },
  {
   "cell_type": "code",
   "execution_count": 2,
   "metadata": {},
   "outputs": [
    {
     "name": "stdout",
     "output_type": "stream",
     "text": [
      "[[ 0.92392879  0.37255507  0.74187851]\n",
      " [-0.45610625  0.75157606  0.72405786]] \n",
      "\n",
      "[[ 9.23928786  3.72555074  7.41878513]\n",
      " [-4.56106254  7.51576061  7.24057857]] \n",
      "\n",
      "[[ 1.84785757  0.74511015  1.48375703]\n",
      " [-0.91221251  1.50315212  1.44811571]] \n",
      "\n",
      "(2, 3)\n",
      "float64\n"
     ]
    }
   ],
   "source": [
    "# numpy最重要的一个特点就是它的N维数组对象(ndarray),该对象是一个快速而灵活的大数据集容器\n",
    "import numpy as np\n",
    "data = np.random.randn(2, 3)\n",
    "print(data, \"\\n\")\n",
    "print(data * 10, \"\\n\")\n",
    "print(data + data, \"\\n\")\n",
    "# ndarray是一个通用的同构数据多维容器，所有元素必须是相同类型的,每个数组都有一个shape 和 一个dtype\n",
    "print(data.shape)\n",
    "print(data.dtype)"
   ]
  },
  {
   "cell_type": "markdown",
   "metadata": {},
   "source": [
    "#### 创建 ndarray"
   ]
  },
  {
   "cell_type": "code",
   "execution_count": 18,
   "metadata": {},
   "outputs": [
    {
     "name": "stdout",
     "output_type": "stream",
     "text": [
      "[1.   1.45 4.   7.  ] \n",
      "\n",
      "[[1 2 3 4]\n",
      " [5 6 7 8]] 维度:  2 形状:  (2, 4)\n",
      "[0. 0. 0. 0. 0. 0. 0. 0. 0. 0.] \n",
      "\n",
      "[[0. 0. 0. 0.]\n",
      " [0. 0. 0. 0.]\n",
      " [0. 0. 0. 0.]]\n"
     ]
    }
   ],
   "source": [
    "# 创建数组最简单的办法就是使用array函数\n",
    "data = [1, 1.45, 4, 7]\n",
    "data = np.array(data)\n",
    "print(data, \"\\n\")\n",
    "# data2 是列表的列表，numpy数组arr2的两个维度的shape是从data2引入的\n",
    "data2 = [[1, 2, 3, 4], [5, 6, 7, 8]]\n",
    "arr2 = np.array(data2)\n",
    "print(arr2, \"维度: \",arr2.ndim, \"形状: \", arr2.shape)\n",
    "\n",
    "# 使用zeros和ones函数可以创建指定长度或形状的全是0或全是1的数组\n",
    "print(np.zeros(10), \"\\n\")\n",
    "print(np.zeros((3, 4)))\n"
   ]
  },
  {
   "cell_type": "markdown",
   "metadata": {},
   "source": [
    "### ndarray的数据类型"
   ]
  },
  {
   "cell_type": "code",
   "execution_count": 3,
   "metadata": {},
   "outputs": [
    {
     "name": "stdout",
     "output_type": "stream",
     "text": [
      "arr1数据类型:float64, arr2数据类型:int32\n"
     ]
    }
   ],
   "source": [
    "# dtype 是一个特殊的对象，它含有 ndarray将一块内存解释为特定数据类型所需的信息\n",
    "arr1 = np.array([1, 2, 3], dtype=np.float64)\n",
    "arr2 = np.array([1, 2, 3], dtype=np.int32)\n",
    "print(\"arr1数据类型:{}, arr2数据类型:{}\".format(arr1.dtype, arr2.dtype))"
   ]
  },
  {
   "cell_type": "markdown",
   "metadata": {},
   "source": [
    "### Numpy 数组的运算\n",
    "数组很重要，因为它使你不用编写循环即可对数据执行批量运算"
   ]
  },
  {
   "cell_type": "code",
   "execution_count": 20,
   "metadata": {},
   "outputs": [
    {
     "name": "stdout",
     "output_type": "stream",
     "text": [
      "[[1 2 3]\n",
      " [4 5 6]] \n",
      "\n",
      "[[ 1  4  9]\n",
      " [16 25 36]] \n",
      "\n",
      "[[0 0 0]\n",
      " [0 0 0]] \n",
      "\n",
      "[[1.         0.5        0.33333333]\n",
      " [0.25       0.2        0.16666667]] \n",
      "\n",
      "[[ 1  4  9]\n",
      " [16 25 36]] \n",
      "\n",
      "[[ 0  4  1]\n",
      " [ 7  2 12]] \n",
      "\n",
      "[[False  True False]\n",
      " [ True False  True]]\n"
     ]
    }
   ],
   "source": [
    "arr = np.array([[1, 2, 3], [4, 5, 6]])\n",
    "print(arr, \"\\n\")\n",
    "print(arr * arr, \"\\n\")\n",
    "print(arr - arr, \"\\n\")\n",
    "\n",
    "# 数组和标量的算数运算会将标量传播到各个元素\n",
    "print(1 / arr, \"\\n\")\n",
    "print(arr ** 2, \"\\n\")\n",
    "# 大小相同的数组之间的比较会产生布尔值数组\n",
    "arr2 = np.array([[0, 4, 1], [7, 2, 12]])\n",
    "print(arr2, \"\\n\")\n",
    "print(arr2 > arr)"
   ]
  },
  {
   "cell_type": "markdown",
   "metadata": {},
   "source": [
    "### 基本的索引和切片\n",
    "Numpy数组的索引是一个内容丰富的主题，但是从表面上看，跟python列表的功能差不多"
   ]
  },
  {
   "cell_type": "code",
   "execution_count": 43,
   "metadata": {},
   "outputs": [
    {
     "name": "stdout",
     "output_type": "stream",
     "text": [
      "[0 1 2 3 4 5 6 7 8 9]\n",
      "arr下标为2的值:  2\n",
      "arr切片 1到3: [1 2]\n",
      "给切片赋值后:  [ 0 88 88 88  4  5  6  7  8  9]\n",
      "[88 88 88]\n",
      "[ 88 111  88]\n",
      "[  0  88 111  88   4   5   6   7   8   9]\n",
      "获取第三行的值: [7 8 9]\n",
      "获取第三行第二列的值: 8 \n",
      "\n",
      "2 * 2 * 3的数组:\n",
      " [[[ 1  2  3]\n",
      "  [ 4  5  6]]\n",
      "\n",
      " [[ 7  8  9]\n",
      "  [10 11 12]]] \n",
      "\n",
      "[[1 2 3]\n",
      " [4 5 6]] \n",
      "\n",
      "某个标量赋值给arr3d[0]后的值:\n",
      " [[[33 33 33]\n",
      "  [33 33 33]]\n",
      "\n",
      " [[ 7  8  9]\n",
      "  [10 11 12]]] \n",
      "\n",
      "数组赋值给arr3d[0]后:\n",
      " [[[ 1  2  3]\n",
      "  [ 4  5  6]]\n",
      "\n",
      " [[ 7  8  9]\n",
      "  [10 11 12]]] \n",
      "\n"
     ]
    },
    {
     "data": {
      "text/plain": [
       "array([[1, 2, 3],\n",
       "       [4, 5, 6],\n",
       "       [7, 8, 9]])"
      ]
     },
     "execution_count": 43,
     "metadata": {},
     "output_type": "execute_result"
    }
   ],
   "source": [
    "arr = np.arange(10)\n",
    "print(arr)\n",
    "print(\"arr下标为2的值: \", arr[2])\n",
    "print(\"arr切片 1到3:\", arr[1:3])\n",
    "# 将一个标量赋值给一个切片时，该值会自动传播到整个选区(广播后续讲解), \n",
    "# 和python列表的区别是 数组切片是原始数组的视图，意味着数据不会复制，修改会直接反映到源数组上\n",
    "arr[1:4] = 88\n",
    "print(\"给切片赋值后: \", arr)\n",
    "\n",
    "arr_slice = arr[1:4]\n",
    "print(arr_slice)\n",
    "arr_slice[1] = 111\n",
    "print(arr_slice)\n",
    "# 这里输出arr，我们会发现arr中下标为2的元素也变为 111 了\n",
    "print(arr)\n",
    "\n",
    "# 对于二维数组，通过下面方式取值，类似 X，Y 轴取值\n",
    "arr2d = np.array([[1, 2, 3], [4, 5, 6], [7, 8, 9]])\n",
    "print(\"获取第三行的值:\", arr2d[2])\n",
    "print(\"获取第三行第二列的值:\", arr2d[2][1], \"\\n\")\n",
    "\n",
    "# 在多维数组中，如果省略了后面的索引，则返回对象是一个维度低一点的ndarray\n",
    "arr3d = np.array([[[1, 2, 3], [4, 5, 6]], [[7, 8, 9], [10, 11, 12]]])\n",
    "print(\"2 * 2 * 3的数组:\\n\", arr3d, \"\\n\")\n",
    "# arr3d[0] 是一个 2 * 3的数组，arr3d有两个这样的数组，所以是 2*2*3\n",
    "print(arr3d[0], \"\\n\")\n",
    "\n",
    "# 标量和数组都可以赋值给 arr3d[0]\n",
    "old_values = arr3d[0].copy()\n",
    "arr3d[0] = 33\n",
    "print(\"某个标量赋值给arr3d[0]后的值:\\n\", arr3d, \"\\n\")\n",
    "arr3d[0] = old_values\n",
    "print(\"数组赋值给arr3d[0]后:\\n\", arr3d, \"\\n\")\n",
    "\n",
    "# 对于二维数组切片"
   ]
  },
  {
   "cell_type": "code",
   "execution_count": null,
   "metadata": {},
   "outputs": [],
   "source": []
  },
  {
   "cell_type": "code",
   "execution_count": null,
   "metadata": {},
   "outputs": [],
   "source": []
  },
  {
   "cell_type": "code",
   "execution_count": null,
   "metadata": {},
   "outputs": [],
   "source": []
  },
  {
   "cell_type": "code",
   "execution_count": null,
   "metadata": {},
   "outputs": [],
   "source": []
  }
 ],
 "metadata": {
  "kernelspec": {
   "display_name": "Python 3",
   "language": "python",
   "name": "python3"
  },
  "language_info": {
   "codemirror_mode": {
    "name": "ipython",
    "version": 3
   },
   "file_extension": ".py",
   "mimetype": "text/x-python",
   "name": "python",
   "nbconvert_exporter": "python",
   "pygments_lexer": "ipython3",
   "version": "3.7.2"
  }
 },
 "nbformat": 4,
 "nbformat_minor": 2
}
