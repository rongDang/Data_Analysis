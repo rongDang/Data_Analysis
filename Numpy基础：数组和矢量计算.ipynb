{
 "cells": [
  {
   "cell_type": "markdown",
   "metadata": {},
   "source": [
    "**Numpy 是Python数值计算重要的基础包，大多数提供科学计算的包都是用Numpy的数组作为构建基础**\n",
    "### Numpy的部分功能如下\n",
    "* ndarray 一个具有矢量算术运算和复杂广播的快速且节省空间的多维数组\n",
    "* 用于对整组数据进行快速运算的标准数学函数 (无需编写循环)\n",
    "* 用于读写磁盘数据的工具以及用于操作内存映射文件的工具\n",
    "* 线性代数、随机数生成、傅里叶变换功能\n",
    "* 用于集成由C、C++、Fortran等语言编写的代码的AC API\n",
    "### Numpy可以高效处理大数组数据的原因:\n",
    "* Numpy是在一个连续的内存块中存储数据，独立于其他Python内置对象\n",
    "* Numpy的C语言编写的算法库可以操作内存，而不必进行类型检查或其他前期工作，比起python内置序列，Numpy数组使用的内存更少\n",
    "* Numpy可以在整个数组上执行复杂的计算，而不需要python的for循环"
   ]
  },
  {
   "cell_type": "markdown",
   "metadata": {},
   "source": [
    "# Numpy的ndarray：一种多维数组对象"
   ]
  },
  {
   "cell_type": "code",
   "execution_count": 10,
   "metadata": {},
   "outputs": [
    {
     "name": "stdout",
     "output_type": "stream",
     "text": [
      "[[-1.03433033  0.09335385 -0.10496624]\n",
      " [-1.76665867 -1.21353481 -0.56444107]] \n",
      "\n",
      "[[-10.34330326   0.93353852  -1.04966236]\n",
      " [-17.66658666 -12.13534814  -5.64441068]] \n",
      "\n",
      "[[-2.06866065  0.1867077  -0.20993247]\n",
      " [-3.53331733 -2.42706963 -1.12888214]] \n",
      "\n",
      "(2, 3)\n",
      "float64\n"
     ]
    }
   ],
   "source": [
    "# numpy最重要的一个特点就是它的N维数组对象(ndarray),该对象是一个快速而灵活的大数据集容器\n",
    "import numpy as np\n",
    "data = np.random.randn(2, 3)\n",
    "print(data, \"\\n\")\n",
    "print(data * 10, \"\\n\")\n",
    "print(data + data, \"\\n\")\n",
    "# ndarray是一个通用的同构数据多维容器，所有元素必须是相同类型的,每个数组都有一个shape 和 一个dtype\n",
    "print(data.shape)\n",
    "print(data.dtype)"
   ]
  },
  {
   "cell_type": "markdown",
   "metadata": {},
   "source": [
    "#### 创建 ndarray"
   ]
  },
  {
   "cell_type": "code",
   "execution_count": 18,
   "metadata": {},
   "outputs": [
    {
     "name": "stdout",
     "output_type": "stream",
     "text": [
      "[1.   1.45 4.   7.  ] \n",
      "\n",
      "[[1 2 3 4]\n",
      " [5 6 7 8]] 维度:  2 形状:  (2, 4)\n",
      "[0. 0. 0. 0. 0. 0. 0. 0. 0. 0.] \n",
      "\n",
      "[[0. 0. 0. 0.]\n",
      " [0. 0. 0. 0.]\n",
      " [0. 0. 0. 0.]]\n"
     ]
    }
   ],
   "source": [
    "# 创建数组最简单的办法就是使用array函数\n",
    "data = [1, 1.45, 4, 7]\n",
    "data = np.array(data)\n",
    "print(data, \"\\n\")\n",
    "# data2 是列表的列表，numpy数组arr2的两个维度的shape是从data2引入的\n",
    "data2 = [[1, 2, 3, 4], [5, 6, 7, 8]]\n",
    "arr2 = np.array(data2)\n",
    "print(arr2, \"维度: \",arr2.ndim, \"形状: \", arr2.shape)\n",
    "\n",
    "# 使用zeros和ones函数可以创建指定长度或形状的全是0或全是1的数组\n",
    "print(np.zeros(10), \"\\n\")\n",
    "print(np.zeros((3, 4)))\n"
   ]
  },
  {
   "cell_type": "markdown",
   "metadata": {},
   "source": [
    "### ndarray的数据类型"
   ]
  },
  {
   "cell_type": "code",
   "execution_count": 19,
   "metadata": {},
   "outputs": [
    {
     "name": "stdout",
     "output_type": "stream",
     "text": [
      "arr1数据类型:float64, arr2数据类型:int32\n"
     ]
    }
   ],
   "source": [
    "# dtype 是一个特殊的对象，它含有 ndarray将一块内存解释为特定数据类型所需的信息\n",
    "arr1 = np.array([1, 2, 3], dtype=np.float64)\n",
    "arr2 = np.array([1, 2, 3], dtype=np.int32)\n",
    "print(\"arr1数据类型:{}, arr2数据类型:{}\".format(arr1.dtype, arr2.dtype))\n"
   ]
  },
  {
   "cell_type": "code",
   "execution_count": null,
   "metadata": {},
   "outputs": [],
   "source": []
  },
  {
   "cell_type": "code",
   "execution_count": null,
   "metadata": {},
   "outputs": [],
   "source": []
  }
 ],
 "metadata": {
  "kernelspec": {
   "display_name": "Python 3",
   "language": "python",
   "name": "python3"
  },
  "language_info": {
   "codemirror_mode": {
    "name": "ipython",
    "version": 3
   },
   "file_extension": ".py",
   "mimetype": "text/x-python",
   "name": "python",
   "nbconvert_exporter": "python",
   "pygments_lexer": "ipython3",
   "version": "3.7.2"
  }
 },
 "nbformat": 4,
 "nbformat_minor": 2
}
