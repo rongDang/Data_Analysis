{
 "cells": [
  {
   "cell_type": "markdown",
   "metadata": {},
   "source": [
    "# python 元组"
   ]
  },
  {
   "cell_type": "code",
   "execution_count": 1,
   "metadata": {},
   "outputs": [
    {
     "name": "stdout",
     "output_type": "stream",
     "text": [
      "(1, 3, 5)\n"
     ]
    }
   ],
   "source": [
    "# 元组是固定长度，不可改变的python序列对象，创建元组最简单的方法入下\n",
    "tup = 1, 3, 5\n",
    "print(tup)"
   ]
  },
  {
   "cell_type": "code",
   "execution_count": 3,
   "metadata": {},
   "outputs": [
    {
     "name": "stdout",
     "output_type": "stream",
     "text": [
      "((1, 2, 3), (5, 7))\n"
     ]
    }
   ],
   "source": [
    "# 复杂表达式定义元组，最好的写法是将其放到圆括号里面\n",
    "nested_tup = (1, 2, 3), (5, 7)\n",
    "print(nested_tup)"
   ]
  },
  {
   "cell_type": "code",
   "execution_count": 7,
   "metadata": {},
   "outputs": [
    {
     "name": "stdout",
     "output_type": "stream",
     "text": [
      "(1, 3, 5, 7)\n",
      "('s', 't', 'r', 'i', 'n', 'g')\n",
      "下标为2的值: r\n"
     ]
    }
   ],
   "source": [
    "# tuple 可以将任意序列或者迭代器转换为元组\n",
    "data = [1, 3, 5, 7]\n",
    "data = tuple(data)\n",
    "print(data)\n",
    "\n",
    "test = \"string\"\n",
    "test = tuple(test)\n",
    "print(test)\n",
    "\n",
    "# 获取元组中的元素，和list一样，直接通过下标获取\n",
    "print(\"下标为2的值:\", test[2])"
   ]
  },
  {
   "cell_type": "code",
   "execution_count": 13,
   "metadata": {},
   "outputs": [
    {
     "name": "stdout",
     "output_type": "stream",
     "text": [
      "'tuple' object does not support item assignment\n",
      "('xiaobai', True, [2, 4, 6])\n",
      "元组相加: ('xiaobai', True, [2, 4, 6], 'main')\n",
      "元组相乘: ('main', 'main', 'main')\n"
     ]
    }
   ],
   "source": [
    "# 元组一旦创建，元组中的对象则不可以修改\n",
    "tup = tuple([\"xiaobai\", True, [2, 4]])\n",
    "try:\n",
    "    tup[1] = False\n",
    "    print(tup)\n",
    "except Exception as e:\n",
    "    print(e)\n",
    "\n",
    "# 如果元组中某个对象是可变的，例如列表，那么我们可以在原位上进行修改，例如修改元组中列表的值\n",
    "tup[2].append(6)\n",
    "print(tup)\n",
    "\n",
    "# 可以使用加号将元组串联起来, 注意:即使元组只有一个元素也需要加上一个逗号\n",
    "tup_1 = (\"main\", )\n",
    "tup += tup_1\n",
    "print(\"元组相加:\", tup)\n",
    "\n",
    "# 元组乘以一个整数，那么就会像列表一样，将几个元组复制串联，元组的很多操作和列表相似\n",
    "tup_1 = tup_1 * 3\n",
    "print(\"元组相乘:\", tup_1)"
   ]
  },
  {
   "cell_type": "markdown",
   "metadata": {},
   "source": [
    "# 拆分元组"
   ]
  },
  {
   "cell_type": "code",
   "execution_count": 17,
   "metadata": {},
   "outputs": [
    {
     "name": "stdout",
     "output_type": "stream",
     "text": [
      "1 3 5\n",
      "1 3 (5, 7)\n"
     ]
    }
   ],
   "source": [
    "# 如果你想要将元组赋值给类似元组的变量，那么python会试图拆分等号右边的值\n",
    "tup = (1, 3, 5)\n",
    "a, b, c = tup\n",
    "print(a, b, c)\n",
    "\n",
    "# 即使元组包含元组也会被拆分\n",
    "tup = 1, 3, (5, 7)\n",
    "a, b, c = tup\n",
    "# a, b, (d, c) = tup\n",
    "print(a, b, c)"
   ]
  },
  {
   "cell_type": "code",
   "execution_count": 25,
   "metadata": {
    "scrolled": true
   },
   "outputs": [
    {
     "name": "stdout",
     "output_type": "stream",
     "text": [
      "a=1, b=2, c=3\n",
      "a=A, b=B, c=C\n",
      "a=4, b=5, c=6\n",
      "1 -- 2 -- [3, 4, 5]\n"
     ]
    }
   ],
   "source": [
    "# 变量拆分常用来迭代元组或列表序列\n",
    "seq = [(1, 2, 3), (\"A\", \"B\", \"C\"), (4, 5, 6)]\n",
    "for a, b, c in seq:\n",
    "    print(\"a={}, b={}, c={}\".format(a, b, c))\n",
    "\n",
    "# 新版本的python还添加了更高级的元组拆分功能，可以使用 *rest 来获取任意长度列表的位置参数\n",
    "test = 1, 2, 3, 4, 5\n",
    "a, b, *rest = test\n",
    "print(a, \"--\", b, \"--\", rest)"
   ]
  },
  {
   "cell_type": "markdown",
   "metadata": {},
   "source": [
    "# tuple 方法"
   ]
  },
  {
   "cell_type": "code",
   "execution_count": 27,
   "metadata": {
    "scrolled": true
   },
   "outputs": [
    {
     "name": "stdout",
     "output_type": "stream",
     "text": [
      "3\n"
     ]
    }
   ],
   "source": [
    "# 因为元组的大小和内容不能修改，所以它的实例方法很轻量，比较有用的是count方法，用来统计某个值出现的频率，list也可以使用该方法\n",
    "test = (1, 3, 4, 1, 6, 4, 4, 3)\n",
    "print(\"4出现的次数\", test.count(4))"
   ]
  },
  {
   "cell_type": "markdown",
   "metadata": {},
   "source": [
    "# 列表"
   ]
  },
  {
   "cell_type": "code",
   "execution_count": 5,
   "metadata": {},
   "outputs": [
    {
     "name": "stdout",
     "output_type": "stream",
     "text": [
      "[1, 'one', True, (1, 3), [4, 5]]\n",
      "<class 'tuple'>\n",
      "(1, 'one', True, (1, 3), [4, 5])\n",
      "['one', 1, 'one', True, (1, 3), [4, 5], 'last']\n",
      "['one', 'one', True, (1, 3), [4, 5], 'last']\n",
      "['one', True, (1, 3), [4, 5], 'last']\n",
      "存在\n"
     ]
    }
   ],
   "source": [
    "# 对比元组，列表的长度可变，内容可以被修改, list和tuple间转换如下\n",
    "test_list = [1, \"one\", True, (1, 3), [4, 5]]\n",
    "print(test_list)\n",
    "\n",
    "test_tuple = tuple(test_list)\n",
    "print(type(test_tuple))\n",
    "print(test_tuple)\n",
    "\n",
    "# 添加和删除数据\n",
    "test_list.append(\"last\")\n",
    "test_list.insert(0, \"one\")\n",
    "print(test_list)\n",
    "# insert的逆运算是pop, 它移除并返回指定位置的元素,这里我移除下标为1的列表元素\n",
    "test_list.pop(1)\n",
    "print(test_list)\n",
    "# 使用remove去除某个值，remove\n",
    "test_list.remove(\"one\")\n",
    "print(test_list)\n",
    "# 检查某个值是否在列表中\n",
    "if \"one\" in test_list:\n",
    "    print(\"存在\")"
   ]
  },
  {
   "cell_type": "markdown",
   "metadata": {},
   "source": [
    "#### 串联和组合列表"
   ]
  },
  {
   "cell_type": "code",
   "execution_count": 9,
   "metadata": {},
   "outputs": [
    {
     "name": "stdout",
     "output_type": "stream",
     "text": [
      "[1, 2, 3, 4, 1, 2, 3, 4]\n",
      "[1, 2, 3, 4, 1, 2, 3, 4, 6, 7, 8, 9]\n"
     ]
    }
   ],
   "source": [
    "# 和元组类似，可以使用加号将两个列表串联起来\n",
    "list_1 = [1, 2, 3, 4]\n",
    "list_1 += list_1\n",
    "print(list_1)\n",
    "\n",
    "# 如果已经定义了一个列表, 建议使用 extend 方法追加多个元素,通过加法将列表串联的计算量比较大，因为要新建一个列表，并且要复制对象。\n",
    "list_1.extend([6, 7, 8, 9])\n",
    "print(list_1)"
   ]
  },
  {
   "cell_type": "markdown",
   "metadata": {},
   "source": [
    "#### 排序"
   ]
  },
  {
   "cell_type": "code",
   "execution_count": 10,
   "metadata": {},
   "outputs": [
    {
     "name": "stdout",
     "output_type": "stream",
     "text": [
      "[0, 1, 2, 4, 5, 7]\n"
     ]
    }
   ],
   "source": [
    "# 使用 sort 函数将一个列表原地排序\n",
    "a = [4, 5, 7, 2, 0, 1]\n",
    "a.sort()\n",
    "print(a)\n",
    "# "
   ]
  },
  {
   "cell_type": "code",
   "execution_count": null,
   "metadata": {},
   "outputs": [],
   "source": []
  }
 ],
 "metadata": {
  "kernelspec": {
   "display_name": "Python 3",
   "language": "python",
   "name": "python3"
  },
  "language_info": {
   "codemirror_mode": {
    "name": "ipython",
    "version": 3
   },
   "file_extension": ".py",
   "mimetype": "text/x-python",
   "name": "python",
   "nbconvert_exporter": "python",
   "pygments_lexer": "ipython3",
   "version": "3.7.2"
  }
 },
 "nbformat": 4,
 "nbformat_minor": 2
}
