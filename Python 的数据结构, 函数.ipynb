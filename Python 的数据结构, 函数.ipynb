{
 "cells": [
  {
   "cell_type": "markdown",
   "metadata": {},
   "source": [
    "# python 元组"
   ]
  },
  {
   "cell_type": "code",
   "execution_count": 1,
   "metadata": {},
   "outputs": [
    {
     "name": "stdout",
     "output_type": "stream",
     "text": [
      "(1, 3, 5)\n"
     ]
    }
   ],
   "source": [
    "# 元组是固定长度，不可改变的python序列对象，创建元组最简单的方法入下\n",
    "tup = 1, 3, 5\n",
    "print(tup)"
   ]
  },
  {
   "cell_type": "code",
   "execution_count": 3,
   "metadata": {},
   "outputs": [
    {
     "name": "stdout",
     "output_type": "stream",
     "text": [
      "((1, 2, 3), (5, 7))\n"
     ]
    }
   ],
   "source": [
    "# 复杂表达式定义元组，最好的写法是将其放到圆括号里面\n",
    "nested_tup = (1, 2, 3), (5, 7)\n",
    "print(nested_tup)"
   ]
  },
  {
   "cell_type": "code",
   "execution_count": 7,
   "metadata": {},
   "outputs": [
    {
     "name": "stdout",
     "output_type": "stream",
     "text": [
      "(1, 3, 5, 7)\n",
      "('s', 't', 'r', 'i', 'n', 'g')\n",
      "下标为2的值: r\n"
     ]
    }
   ],
   "source": [
    "# tuple 可以将任意序列或者迭代器转换为元组\n",
    "data = [1, 3, 5, 7]\n",
    "data = tuple(data)\n",
    "print(data)\n",
    "\n",
    "test = \"string\"\n",
    "test = tuple(test)\n",
    "print(test)\n",
    "\n",
    "# 获取元组中的元素，和list一样，直接通过下标获取\n",
    "print(\"下标为2的值:\", test[2])"
   ]
  },
  {
   "cell_type": "code",
   "execution_count": 13,
   "metadata": {},
   "outputs": [
    {
     "name": "stdout",
     "output_type": "stream",
     "text": [
      "'tuple' object does not support item assignment\n",
      "('xiaobai', True, [2, 4, 6])\n",
      "元组相加: ('xiaobai', True, [2, 4, 6], 'main')\n",
      "元组相乘: ('main', 'main', 'main')\n"
     ]
    }
   ],
   "source": [
    "# 元组一旦创建，元组中的对象则不可以修改\n",
    "tup = tuple([\"xiaobai\", True, [2, 4]])\n",
    "try:\n",
    "    tup[1] = False\n",
    "    print(tup)\n",
    "except Exception as e:\n",
    "    print(e)\n",
    "\n",
    "# 如果元组中某个对象是可变的，例如列表，那么我们可以在原位上进行修改，例如修改元组中列表的值\n",
    "tup[2].append(6)\n",
    "print(tup)\n",
    "\n",
    "# 可以使用加号将元组串联起来, 注意:即使元组只有一个元素也需要加上一个逗号\n",
    "tup_1 = (\"main\", )\n",
    "tup += tup_1\n",
    "print(\"元组相加:\", tup)\n",
    "\n",
    "# 元组乘以一个整数，那么就会像列表一样，将几个元组复制串联，元组的很多操作和列表相似\n",
    "tup_1 = tup_1 * 3\n",
    "print(\"元组相乘:\", tup_1)"
   ]
  },
  {
   "cell_type": "markdown",
   "metadata": {},
   "source": [
    "# 拆分元组"
   ]
  },
  {
   "cell_type": "code",
   "execution_count": 17,
   "metadata": {},
   "outputs": [
    {
     "name": "stdout",
     "output_type": "stream",
     "text": [
      "1 3 5\n",
      "1 3 (5, 7)\n"
     ]
    }
   ],
   "source": [
    "# 如果你想要将元组赋值给类似元组的变量，那么python会试图拆分等号右边的值\n",
    "tup = (1, 3, 5)\n",
    "a, b, c = tup\n",
    "print(a, b, c)\n",
    "\n",
    "# 即使元组包含元组也会被拆分\n",
    "tup = 1, 3, (5, 7)\n",
    "a, b, c = tup\n",
    "# a, b, (d, c) = tup\n",
    "print(a, b, c)"
   ]
  },
  {
   "cell_type": "code",
   "execution_count": 25,
   "metadata": {
    "scrolled": true
   },
   "outputs": [
    {
     "name": "stdout",
     "output_type": "stream",
     "text": [
      "a=1, b=2, c=3\n",
      "a=A, b=B, c=C\n",
      "a=4, b=5, c=6\n",
      "1 -- 2 -- [3, 4, 5]\n"
     ]
    }
   ],
   "source": [
    "# 变量拆分常用来迭代元组或列表序列\n",
    "seq = [(1, 2, 3), (\"A\", \"B\", \"C\"), (4, 5, 6)]\n",
    "for a, b, c in seq:\n",
    "    print(\"a={}, b={}, c={}\".format(a, b, c))\n",
    "\n",
    "# 新版本的python还添加了更高级的元组拆分功能，可以使用 *rest 来获取任意长度列表的位置参数\n",
    "test = 1, 2, 3, 4, 5\n",
    "a, b, *rest = test\n",
    "print(a, \"--\", b, \"--\", rest)"
   ]
  },
  {
   "cell_type": "markdown",
   "metadata": {},
   "source": [
    "# tuple 方法"
   ]
  },
  {
   "cell_type": "code",
   "execution_count": 27,
   "metadata": {
    "scrolled": true
   },
   "outputs": [
    {
     "name": "stdout",
     "output_type": "stream",
     "text": [
      "3\n"
     ]
    }
   ],
   "source": [
    "# 因为元组的大小和内容不能修改，所以它的实例方法很轻量，比较有用的是count方法，用来统计某个值出现的频率，list也可以使用该方法\n",
    "test = (1, 3, 4, 1, 6, 4, 4, 3)\n",
    "print(\"4出现的次数\", test.count(4))"
   ]
  },
  {
   "cell_type": "markdown",
   "metadata": {},
   "source": [
    "# 列表"
   ]
  },
  {
   "cell_type": "code",
   "execution_count": 5,
   "metadata": {},
   "outputs": [
    {
     "name": "stdout",
     "output_type": "stream",
     "text": [
      "[1, 'one', True, (1, 3), [4, 5]]\n",
      "<class 'tuple'>\n",
      "(1, 'one', True, (1, 3), [4, 5])\n",
      "['one', 1, 'one', True, (1, 3), [4, 5], 'last']\n",
      "['one', 'one', True, (1, 3), [4, 5], 'last']\n",
      "['one', True, (1, 3), [4, 5], 'last']\n",
      "存在\n"
     ]
    }
   ],
   "source": [
    "# 对比元组，列表的长度可变，内容可以被修改, list和tuple间转换如下\n",
    "test_list = [1, \"one\", True, (1, 3), [4, 5]]\n",
    "print(test_list)\n",
    "\n",
    "test_tuple = tuple(test_list)\n",
    "print(type(test_tuple))\n",
    "print(test_tuple)\n",
    "\n",
    "# 添加和删除数据\n",
    "test_list.append(\"last\")\n",
    "test_list.insert(0, \"one\")\n",
    "print(test_list)\n",
    "# insert的逆运算是pop, 它移除并返回指定位置的元素,这里我移除下标为1的列表元素\n",
    "test_list.pop(1)\n",
    "print(test_list)\n",
    "# 使用remove去除某个值，remove\n",
    "test_list.remove(\"one\")\n",
    "print(test_list)\n",
    "# 检查某个值是否在列表中\n",
    "if \"one\" in test_list:\n",
    "    print(\"存在\")"
   ]
  },
  {
   "cell_type": "markdown",
   "metadata": {},
   "source": [
    "#### 串联和组合列表"
   ]
  },
  {
   "cell_type": "code",
   "execution_count": 9,
   "metadata": {},
   "outputs": [
    {
     "name": "stdout",
     "output_type": "stream",
     "text": [
      "[1, 2, 3, 4, 1, 2, 3, 4]\n",
      "[1, 2, 3, 4, 1, 2, 3, 4, 6, 7, 8, 9]\n"
     ]
    }
   ],
   "source": [
    "# 和元组类似，可以使用加号将两个列表串联起来\n",
    "list_1 = [1, 2, 3, 4]\n",
    "list_1 += list_1\n",
    "print(list_1)\n",
    "\n",
    "# 如果已经定义了一个列表, 建议使用 extend 方法追加多个元素,通过加法将列表串联的计算量比较大，因为要新建一个列表，并且要复制对象。\n",
    "list_1.extend([6, 7, 8, 9])\n",
    "print(list_1)"
   ]
  },
  {
   "cell_type": "markdown",
   "metadata": {},
   "source": [
    "#### 排序"
   ]
  },
  {
   "cell_type": "code",
   "execution_count": 3,
   "metadata": {},
   "outputs": [
    {
     "name": "stdout",
     "output_type": "stream",
     "text": [
      "[0, 1, 2, 4, 5, 7]\n",
      "['he', 'saw', 'small', 'password']\n"
     ]
    }
   ],
   "source": [
    "# 使用 sort 函数将一个列表原地排序\n",
    "a = [4, 5, 7, 2, 0, 1]\n",
    "a.sort()\n",
    "print(a)\n",
    "# sort选项中我们可以通过key进行排序，例如可以按长度对字符串进行排序\n",
    "b = [\"saw\", \"small\", \"he\", \"password\"]\n",
    "b.sort(key=len)\n",
    "print(b)"
   ]
  },
  {
   "cell_type": "markdown",
   "metadata": {},
   "source": [
    "#### 二分搜索和维护已排序的列表"
   ]
  },
  {
   "cell_type": "code",
   "execution_count": 20,
   "metadata": {},
   "outputs": [
    {
     "name": "stdout",
     "output_type": "stream",
     "text": [
      "2\n",
      "3\n",
      "[0, 1, 3, 5, 6, 7]\n"
     ]
    }
   ],
   "source": [
    "# bisect 模块支持二分查找，和向已经排序的列表插入值，bisect.bisect 可以找到插入值后仍保证排序的位置，bisect.insort 是向指定位置插入值\n",
    "import bisect\n",
    "c = [0, 1, 3, 5, 7]\n",
    "# bisect.bisect(c, 2)返回 2 这个值插入到 c 列表 排序后的下标位置\n",
    "one = bisect.bisect(c, 2)\n",
    "print(one)\n",
    "two = bisect.bisect(c, 4)\n",
    "print(two)\n",
    "\n",
    "bisect.insort(c, 6)\n",
    "print(c)\n",
    "\n",
    "# 注意事项: bisect 模块不会检查列表是否已经排序，所以对未排序的列表使用 bisect 不会产生错误，但是结果不一定正确"
   ]
  },
  {
   "cell_type": "markdown",
   "metadata": {},
   "source": [
    "#### 切片"
   ]
  },
  {
   "cell_type": "code",
   "execution_count": 33,
   "metadata": {},
   "outputs": [
    {
     "name": "stdout",
     "output_type": "stream",
     "text": [
      "[3, 4, 5]\n",
      "[3, 4, 5, 7, 4, 9]\n",
      "[6, 6, 5, 7, 4, 9, 1, 2]\n",
      "[4, 9, 1, 2]\n",
      "[9, 1]\n",
      "[2, 9, 7, 6]\n",
      "[2, 1, 9, 4, 7, 5, 6, 6]\n"
     ]
    }
   ],
   "source": [
    "# 用切边可以选取大多数 序列类型的一部分，使用方式为: [start: stop: step], 切片是包前不包后，意思是包括start的值，但是不包括stop下标的值\n",
    "seq = [3, 4, 5, 7, 4, 9, 1, 2]\n",
    "print(seq[0: 3])\n",
    "print(seq[:-2])\n",
    "\n",
    "# 切片可以被序列赋值\n",
    "seq[0: 2] = [6, 6]\n",
    "print(seq)\n",
    "\n",
    "# 负数表明从后向前切片\n",
    "print(seq[-4:])\n",
    "print(seq[-3: -1])\n",
    "\n",
    "# 切片的step表示步长，是隔一个取一个元素\n",
    "print(seq[::-2])\n",
    "# step为-1，则可以将列表货元组颠倒过来\n",
    "print(seq[::-1])"
   ]
  },
  {
   "cell_type": "markdown",
   "metadata": {},
   "source": [
    "#### 序列函数"
   ]
  },
  {
   "cell_type": "code",
   "execution_count": 43,
   "metadata": {},
   "outputs": [
    {
     "name": "stdout",
     "output_type": "stream",
     "text": [
      "0 -- xiaobai\n",
      "1 -- xiaohei\n",
      "2 -- xiaohong\n",
      "[('foo', 1), ('bar', 2), ('bus', 3)]\n",
      "[('foo', 1, True), ('bar', 2, False)]\n",
      "0: foo -- 1\n",
      "1: bar -- 2\n",
      "2: bus -- 3\n",
      "('小', '大', '阿')\n",
      "('白', '黑', '宏')\n"
     ]
    },
    {
     "data": {
      "text/plain": [
       "[9, 8, 7, 6, 5, 4, 3, 2, 1, 0]"
      ]
     },
     "execution_count": 43,
     "metadata": {},
     "output_type": "execute_result"
    }
   ],
   "source": [
    "# enumerate 函数, 该函数可以返回 (i, value) 元组序列\n",
    "some_list = [\"xiaobai\", \"xiaohei\", \"xiaohong\"]\n",
    "for i, v in enumerate(some_list):\n",
    "    print(i, \"--\", v)\n",
    "\n",
    "# sorted 函数，该函数可以从任意序列的元素返回一个新的排好序的列表\n",
    "one = [1, 4,2, 3, 8, 1, 3]\n",
    "sorted(one)\n",
    "sorted(\"three one\")\n",
    "\n",
    "# zip 函数，可以将多个列表，元组或者其他序列 成对组合成一个元组列表\n",
    "seq1 = [\"foo\", \"bar\", \"bus\"]\n",
    "seq2 = [1, 2, 3]\n",
    "zipped = zip(seq1, seq2)\n",
    "print(list(zipped))\n",
    "# zip 可以处理任意多的序列，元素的个数取决于最短的序列\n",
    "seq3 = [True, False]\n",
    "zipped2 = list(zip(seq1, seq2, seq3))\n",
    "print(zipped2)\n",
    "# zip 的常见用法是同时迭代多个序列，可以结合enumerate使用\n",
    "for i, (a, b) in enumerate(zip(seq1, seq2)):\n",
    "    print(\"{}: {} -- {}\".format(i, a, b))\n",
    "# zip 可以当作把行的列表转换 为列的列表\n",
    "pitchers = [(\"小\", \"白\"), (\"大\", \"黑\"), (\"阿\", \"宏\")]\n",
    "first, last = zip(*pitchers)\n",
    "print(first)\n",
    "print(last)\n",
    "\n",
    "# reversed 函数， 该函数可以从后向前迭代一个序列, 可以理解为反转\n",
    "list(reversed(range(10)))"
   ]
  },
  {
   "cell_type": "markdown",
   "metadata": {},
   "source": [
    "# 字典"
   ]
  },
  {
   "cell_type": "code",
   "execution_count": 38,
   "metadata": {},
   "outputs": [
    {
     "name": "stdout",
     "output_type": "stream",
     "text": [
      "{'a': 'some value', 'b': [1, 2, 3, 4], 'name': 'okkk'}\n",
      "{'a': 'some value', 'b': [1, 2, 3, 4], 'name': 'okkk', 7: 'number'} -- [1, 2, 3, 4]\n",
      "True\n",
      "{'b': [1, 2, 3, 4], 'name': 'okkk', 7: 'number'}\n",
      "{'b': [1, 2, 3, 4], 'name': 'okkk'} \n",
      "pop(7) 返回的值:number\n",
      "['b', 'name'] [[1, 2, 3, 4], 'okkk']\n",
      "{'b': [1, 2, 3, 4], 'name': 'okkk', 'city': '深圳'}\n",
      "mapping:  {0: 5, 1: 6, 2: 7, 3: 8, 4: 9}\n",
      "dic_2:  {'city': 'money', '上海': '12000'}\n",
      "长沙\n",
      "{'a': ['apple', 'atom'], 'b': ['bat', 'bar', 'book']}\n",
      "{'a': ['apple', 'atom'], 'b': ['bat', 'bar', 'book']}\n"
     ]
    }
   ],
   "source": [
    "# 你可以像访问列表或元组中的元素一样，访问、插入或设定字典中的元素\n",
    "dic = {\"a\": \"some value\", \"b\": [1, 2, 3, 4], \"name\": \"okkk\"}\n",
    "print(dic)\n",
    "dic[7] = \"number\"\n",
    "print(dic, \"--\", dic[\"b\"])\n",
    "# 检查字典中是否包含某个键\n",
    "flag = \"a\" in dic\n",
    "print(flag)\n",
    "\n",
    "# 使用 del 关键字 或者 pop方法 删除键，pop方法会返回删除的值\n",
    "del dic[\"a\"]\n",
    "print(dic)\n",
    "key = dic.pop(7)\n",
    "print(dic, \"\\npop(7) 返回的值:{}\".format(key))\n",
    "\n",
    "# keys 和 values 是字典的键和值的迭代器方法，虽然字典的键值对输出没有顺序，但是这两个方法却可以用相同的顺序输出键和值\n",
    "key =  list(dic.keys())\n",
    "value = list(dic.values())\n",
    "print(key, value)\n",
    "\n",
    "# update 方法可以将一个字典与另一个融合\n",
    "dic.update({\"city\": \"深圳\"})\n",
    "print(dic)\n",
    "\n",
    "# 序列循环创建字典\n",
    "\"\"\"\n",
    "mapping = {}\n",
    "for key, value in zip(key_list, vlaue_list):\n",
    "    mapping[key] = value\n",
    "\"\"\"\n",
    "# 字典本质是2元元组的集合，dict 可以接收2元元组的列表\n",
    "mapping = dict( zip(range(5), range(5, 10)) )\n",
    "print(\"mapping: \",mapping)\n",
    "dic_2 = dict(((\"city\", \"money\"), (\"上海\", \"12000\")))\n",
    "print(\"dic_2: \", dic_2)\n",
    "# 字典的get方法可以取默认值进行返回, 没有获取对应的键则会返回None\n",
    "value = dic.get(\"cit\", \"长沙\")\n",
    "print(value)\n",
    "\n",
    "# 关于字典设定值，案例：通过首字母，将一个列表中的单词分类\n",
    "words = [\"apple\", \"bat\", \"bar\", \"atom\", \"book\"]\n",
    "by_letter = {}\n",
    "for word in words:\n",
    "    letter = word[0]\n",
    "    # 判断第一个字母是否在字典中，如果不存在则将该单词放到列表中赋值给字典，存在则直接添加到字典中该键对应的列表里\n",
    "    if letter not in by_letter:\n",
    "        by_letter[letter] = [word]\n",
    "    else:\n",
    "        by_letter[letter].append(word)\n",
    "print(by_letter)\n",
    "# 使用 setdefault 方法的话，可以写成下面方式\n",
    "words = [\"apple\", \"bat\", \"bar\", \"atom\", \"book\"]\n",
    "by_letter = {}\n",
    "for word in words:\n",
    "    letter = word[0]\n",
    "    # 如果键不存在于字典中，将会添加键并将值设为默认值。参数二为默认值\n",
    "    by_letter.setdefault(letter, []).append(word)\n",
    "print(by_letter)"
   ]
  },
  {
   "cell_type": "markdown",
   "metadata": {},
   "source": [
    "# 集合"
   ]
  },
  {
   "cell_type": "code",
   "execution_count": 1,
   "metadata": {},
   "outputs": [
    {
     "name": "stdout",
     "output_type": "stream",
     "text": [
      "{1, 2, 3} {1, 2, '123'}\n",
      "{1, 2, 3, 4, 5, 6, 7, 8}\n",
      "{1, 2, 3, 4, 5, 6, 7, 8}\n",
      "{3, 4, 5}\n",
      "{3, 4, 5}\n",
      "True\n",
      "True\n"
     ]
    }
   ],
   "source": [
    "# 集合是无序的不可重复的元素的集合，可以理解为只有键的字典\n",
    "set_1 = set([1, 2, 3, 3, 2, 1])\n",
    "set_2 = {1, 1, 2, 2}\n",
    "# 集合添加数据\n",
    "set_2.add(\"123\")\n",
    "print(set_1, set_2)\n",
    "# 集合支持合并，交集，差分和对称差等数学集合运算, 例如\n",
    "a = {1, 2, 3, 4, 5}\n",
    "b = {3, 4, 5, 6, 7, 8}\n",
    "# 合并是取两个集合中不重复的元素，可以使用 union 方法，或者 | 运算符\n",
    "c = a.union(b)\n",
    "print(c)\n",
    "c = a | b\n",
    "print(c)\n",
    "# 交集表示两个集合中相交的部分，可以使用 intersection 或者 & 运算符\n",
    "c = a.intersection(b)\n",
    "print(c)\n",
    "c = a & b\n",
    "print(c)\n",
    "# 检测一个集合是否是另一个集合的子集或父集\n",
    "a_set = {1, 2, 3, 4, 5}\n",
    "flag = {1, 2, 3}.issubset(a_set)\n",
    "print(flag)\n",
    "flag = a_set.issuperset({1, 2, 3})\n",
    "print(flag)"
   ]
  },
  {
   "cell_type": "markdown",
   "metadata": {},
   "source": [
    "### 列表, 集合和字典推导式"
   ]
  },
  {
   "cell_type": "markdown",
   "metadata": {},
   "source": [
    "**列表推导式是python最受喜爱的特性之一，它允许用户方便的从一个集合过滤元素，形成列表**\n",
    "* 例如\n",
    "```python\n",
    "# 这里 condition 是条件，collection 是循环的对象\n",
    "[expr for val in collection if condition]\n",
    "```\n",
    "* 上面代码等同于下面这个for循环\n",
    "```python\n",
    "result = []\n",
    "for val in collection:\n",
    "    if condition:\n",
    "        result.append(expr)\n",
    "```\n",
    "---------------------------------------------------\n",
    "**类似的方法还可以推导集合和字典**\n",
    "```python\n",
    "dict_test = {key: value for value in collection if condition}\n",
    "set_test = {expr for value in collection if condition}\n",
    "```"
   ]
  },
  {
   "cell_type": "markdown",
   "metadata": {},
   "source": [
    "# 匿名函数 (lambda)\n",
    "*lambda 函数之所以会被称为匿名函数，与def声明的函数不同，原因之一是这种函数本身是没有提供名称name属性*"
   ]
  },
  {
   "cell_type": "code",
   "execution_count": 12,
   "metadata": {},
   "outputs": [
    {
     "data": {
      "text/plain": [
       "[2, 6, 0, 8, 4]"
      ]
     },
     "execution_count": 12,
     "metadata": {},
     "output_type": "execute_result"
    }
   ],
   "source": [
    "# python支持一种被称为匿名函数的东西，它仅由单条语句组成，该语句的结果就是返回值，它通过lambda关键字定义\n",
    "def short_function(x):\n",
    "    return x * 2\n",
    "\n",
    "# 上面函数等价于下面这条代码\n",
    "equiv_anon = lambda x: x * 2\n",
    "\n",
    "# 举例说明\n",
    "def to_list(some_list, f):\n",
    "    # 传入的f就是匿名函数，匿名函数将每个x乘以2\n",
    "    return [f(x) for x in some_list]\n",
    "ints = [1, 3, 0, 4, 2]\n",
    "to_list(ints, lambda x: x * 2)"
   ]
  }
 ],
 "metadata": {
  "kernelspec": {
   "display_name": "Python 3",
   "language": "python",
   "name": "python3"
  },
  "language_info": {
   "codemirror_mode": {
    "name": "ipython",
    "version": 3
   },
   "file_extension": ".py",
   "mimetype": "text/x-python",
   "name": "python",
   "nbconvert_exporter": "python",
   "pygments_lexer": "ipython3",
   "version": "3.7.2"
  }
 },
 "nbformat": 4,
 "nbformat_minor": 2
}
